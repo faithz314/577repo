{
 "cells": [
  {
   "cell_type": "markdown",
   "id": "b2e235be",
   "metadata": {},
   "source": [
    "# US Colleges and Universities Data Visualization"
   ]
  },
  {
   "cell_type": "markdown",
   "id": "7d1d4a50",
   "metadata": {},
   "source": [
    "#### doing data visualization on all of US undergrad and grad schools"
   ]
  },
  {
   "cell_type": "code",
   "execution_count": 6,
   "id": "4a1b4ad8",
   "metadata": {},
   "outputs": [],
   "source": [
    "import pandas as pd\n",
    "import numpy as np\n",
    "import matplotlib.pyplot as plt \n",
    "import seaborn as sns"
   ]
  },
  {
   "cell_type": "code",
   "execution_count": 8,
   "id": "90770907",
   "metadata": {},
   "outputs": [
    {
     "ename": "SyntaxError",
     "evalue": "(unicode error) 'unicodeescape' codec can't decode bytes in position 2-3: truncated \\UXXXXXXXX escape (3833533613.py, line 1)",
     "output_type": "error",
     "traceback": [
      "\u001b[1;36m  Cell \u001b[1;32mIn[8], line 1\u001b[1;36m\u001b[0m\n\u001b[1;33m    colleges = pd.read_csv(\"C:\\Users\\faith\\OneDrive\\Documents\\us-colleges-and-universities.csv\")\u001b[0m\n\u001b[1;37m                                                                                               ^\u001b[0m\n\u001b[1;31mSyntaxError\u001b[0m\u001b[1;31m:\u001b[0m (unicode error) 'unicodeescape' codec can't decode bytes in position 2-3: truncated \\UXXXXXXXX escape\n"
     ]
    }
   ],
   "source": [
    "colleges = pd.read_csv(C:\"\\Users\\faith\\OneDrive\\Documents\\us-colleges-and-universities.csv\")\n"
   ]
  }
 ],
 "metadata": {
  "kernelspec": {
   "display_name": "Python 3 (ipykernel)",
   "language": "python",
   "name": "python3"
  },
  "language_info": {
   "codemirror_mode": {
    "name": "ipython",
    "version": 3
   },
   "file_extension": ".py",
   "mimetype": "text/x-python",
   "name": "python",
   "nbconvert_exporter": "python",
   "pygments_lexer": "ipython3",
   "version": "3.11.5"
  }
 },
 "nbformat": 4,
 "nbformat_minor": 5
}
